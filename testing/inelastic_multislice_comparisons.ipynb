{
 "cells": [
  {
   "cell_type": "code",
   "execution_count": 1,
   "id": "7f42c528",
   "metadata": {},
   "outputs": [],
   "source": [
    "import pyms\n",
    "import numpy as np\n",
    "import torch\n",
    "from tqdm.notebook import tqdm\n",
    "import matplotlib.pyplot as plt\n",
    "import sys\n",
    "sys.path.append('../')\n",
    "from DM1dCalc import multislice"
   ]
  },
  {
   "cell_type": "markdown",
   "id": "db1f6a67",
   "metadata": {},
   "source": [
    "Parameters for the calculations"
   ]
  },
  {
   "cell_type": "code",
   "execution_count": 4,
   "id": "05d88f6b",
   "metadata": {},
   "outputs": [],
   "source": [
    "# Parameters\n",
    "eV = 200e3; app = None; gridshape = [48, 48]; thicknesses = 171\n",
    "crystal = pyms.structure.fromfile(\"../structures/STO_3bc.xyz\", atomic_coordinates=\"cartesian\")\n",
    "\n",
    "# Subslicing and tiling\n",
    "subslices = [0.33, 0.66, 1.0]\n",
    "#tiling = [1,2]\n",
    "tiling = [1,1]\n",
    "\n",
    "# Calculate grid size in Angstrom\n",
    "rsize = np.zeros(3)\n",
    "rsize[:3] = crystal.unitcell[:3]\n",
    "rsize[:2] *= np.asarray(tiling)\n",
    "\n",
    "# Grid size in Angstrom\n",
    "gridsize = np.asarray(tiling)*crystal.unitcell[:2]\n",
    "\n",
    "#Defocii for an image series\n",
    "#defocii = np.arange(-82.5, 83, 2.5)*10\n",
    "defocii = np.arange(-30, 34, 2)*10\n",
    "#defocii = 0\n",
    "\n",
    "# Choose device (CPU or GPU) to run calculations on\n",
    "device = torch.device('cuda:0')\n",
    "\n",
    "# Target the Titanium K edge\n",
    "Ztarget = 22; n=2; ell=1; epsilon = 10"
   ]
  },
  {
   "cell_type": "markdown",
   "id": "ec0cf9b1",
   "metadata": {},
   "source": [
    "Transition potential calculations with dipole approximation"
   ]
  },
  {
   "cell_type": "code",
   "execution_count": 5,
   "id": "db6906e8",
   "metadata": {},
   "outputs": [],
   "source": [
    "from pyms.Probe import wavev\n",
    "eV = 200e3\n",
    "deltaE = -456\n",
    "# Calculate wave number in inverse Angstrom of incident and scattered\n",
    "# electrons\n",
    "k0 = wavev(eV)\n",
    "kn = wavev(eV + deltaE)\n",
    "\n",
    "# Minimum momentum transfer at this energy loss\n",
    "qz = k0 - kn\n",
    "\n",
    "# Get grid dimensions in reciprocal space in units of inverse Bohr radii\n",
    "# (to match atomic wave function output from the Flexible Atomic Code)\n",
    "qq = [gridshape[i] / gridsize[i] for i in range(2)]\n",
    "deltaq = [1 / gridsize[i] for i in range(2)]\n",
    "qgrid = [np.fft.fftfreq(gridshape[1]) * qq[0], np.fft.fftfreq(gridshape[0]) * qq[1]]\n",
    "qx, qy = qgrid\n",
    "Qx, Qy = np.meshgrid(qx, qy, indexing='ij')\n",
    "theta = 7 * np.pi / 180  # 7 degrees in radians\n",
    "Qxp = Qx * np.cos(theta) - qz * np.sin(theta)\n",
    "Qyp = Qy\n",
    "Qzp = Qx * np.sin(theta) + qz * np.cos(theta)\n",
    "sampling = gridsize / gridshape\n",
    "rx = np.linspace(-gridsize[0] / 2, gridsize[0] / 2, gridshape[0])\n",
    "ry = np.linspace(-gridsize[1] / 2, gridsize[1] / 2, gridshape[1])\n",
    "Rx, Ry = np.meshgrid(rx, ry, indexing='ij')\n",
    "\n",
    "# Transverse momentum transfer\n",
    "Q2 = Qx ** 2 + Qy ** 2\n",
    "\n",
    "Hx = np.fft.ifft2(Qxp/(Q2 + qz**2))\n",
    "Hy = np.fft.ifft2(Qyp/(Q2 + qz**2))\n",
    "Hz = np.fft.ifft2(Qzp/(Q2 + qz**2))\n",
    "nx, ny, nz = 1, 1, 1\n",
    "Hdipole = [nx*Hx, ny*Hy, nz*Hz]"
   ]
  },
  {
   "cell_type": "markdown",
   "id": "3e81f1ad",
   "metadata": {},
   "source": [
    "Conduct multislice calculations (py-multislice)"
   ]
  },
  {
   "cell_type": "code",
   "execution_count": 12,
   "id": "77ce2b88",
   "metadata": {},
   "outputs": [
    {
     "data": {
      "application/vnd.jupyter.widget-view+json": {
       "model_id": "9b5f6d82353642908e6f54348a48c993",
       "version_major": 2,
       "version_minor": 0
      },
      "text/plain": [
       "Frozen phonon iterations::   0%|          | 0/5 [00:00<?, ?it/s]"
      ]
     },
     "metadata": {},
     "output_type": "display_data"
    },
    {
     "name": "stdout",
     "output_type": "stream",
     "text": [
      "Note: will use thermally-smeared elastic potential plus TDS absorptive potential\n"
     ]
    },
    {
     "data": {
      "application/vnd.jupyter.widget-view+json": {
       "model_id": "4056a27d245845308732507ad52603dd",
       "version_major": 2,
       "version_minor": 0
      },
      "text/plain": [
       "Calculating TDS scattering factors:   0%|          | 0/22 [00:00<?, ?it/s]"
      ]
     },
     "metadata": {},
     "output_type": "display_data"
    },
    {
     "data": {
      "application/vnd.jupyter.widget-view+json": {
       "model_id": "f67d315d347f47b896ce07d321c7108a",
       "version_major": 2,
       "version_minor": 0
      },
      "text/plain": [
       "Calculating TDS scattering factors:   0%|          | 0/22 [00:00<?, ?it/s]"
      ]
     },
     "metadata": {},
     "output_type": "display_data"
    },
    {
     "data": {
      "application/vnd.jupyter.widget-view+json": {
       "model_id": "94e1b3c18b7945758f649d03bf34839e",
       "version_major": 2,
       "version_minor": 0
      },
      "text/plain": [
       "Calculating TDS scattering factors:   0%|          | 0/22 [00:00<?, ?it/s]"
      ]
     },
     "metadata": {},
     "output_type": "display_data"
    },
    {
     "data": {
      "application/vnd.jupyter.widget-view+json": {
       "model_id": "990c561935d741e69ce3b917c3bf66b1",
       "version_major": 2,
       "version_minor": 0
      },
      "text/plain": [
       "Slice:   0%|          | 0/18 [00:00<?, ?it/s]"
      ]
     },
     "metadata": {},
     "output_type": "display_data"
    },
    {
     "data": {
      "application/vnd.jupyter.widget-view+json": {
       "model_id": "fa1cd869a85349928294e21c3e656928",
       "version_major": 2,
       "version_minor": 0
      },
      "text/plain": [
       "Slice:   0%|          | 0/18 [00:00<?, ?it/s]"
      ]
     },
     "metadata": {},
     "output_type": "display_data"
    },
    {
     "data": {
      "application/vnd.jupyter.widget-view+json": {
       "model_id": "2dde5efdc67f49768953cd169ba093b8",
       "version_major": 2,
       "version_minor": 0
      },
      "text/plain": [
       "Slice:   0%|          | 0/18 [00:00<?, ?it/s]"
      ]
     },
     "metadata": {},
     "output_type": "display_data"
    },
    {
     "data": {
      "application/vnd.jupyter.widget-view+json": {
       "model_id": "c0d795653f1746f2a8d40937fa74fc12",
       "version_major": 2,
       "version_minor": 0
      },
      "text/plain": [
       "Slice:   0%|          | 0/18 [00:00<?, ?it/s]"
      ]
     },
     "metadata": {},
     "output_type": "display_data"
    },
    {
     "data": {
      "application/vnd.jupyter.widget-view+json": {
       "model_id": "498065352ab04cec912deff3dc7ed093",
       "version_major": 2,
       "version_minor": 0
      },
      "text/plain": [
       "Slice:   0%|          | 0/18 [00:00<?, ?it/s]"
      ]
     },
     "metadata": {},
     "output_type": "display_data"
    }
   ],
   "source": [
    "#EFTEM_images, density_matrix = pyms.EFTEM(\n",
    "EFTEM_images = pyms.EFTEM(\n",
    "    crystal,\n",
    "    gridshape,\n",
    "    eV,\n",
    "    app,\n",
    "    thicknesses,\n",
    "    Ztarget,\n",
    "    n,\n",
    "    ell,\n",
    "    epsilon,\n",
    "    Hn0=Hdipole,\n",
    "    df=defocii,\n",
    "    subslices=subslices,\n",
    "    device_type=None,\n",
    "    tiling=tiling,\n",
    "    nT=0,\n",
    "    showProgress = 'notebook',\n",
    "    #option=2,\n",
    "    option=0,\n",
    "    axis=0,\n",
    "    #limit=2/3\n",
    ")\n",
    "#np.save(\"calculated_density_matrix.npy\", density_matrix)\n",
    "#np.save(\"calculated_density_matrix_dipole.npy\", density_matrix[0,:,:])\n",
    "np.save(\"calculated_EFTEM_images_dipole.npy\", EFTEM_images)"
   ]
  },
  {
   "cell_type": "code",
   "execution_count": 13,
   "id": "70c3f3ab",
   "metadata": {},
   "outputs": [
    {
     "data": {
      "image/png": "[encoded data removed]",
      "text/plain": [
       "<Figure size 640x480 with 1 Axes>"
      ]
     },
     "metadata": {},
     "output_type": "display_data"
    }
   ],
   "source": [
    "profile = np.mean(EFTEM_images, axis=1)\n",
    "plt.imshow(profile.T, aspect='auto')\n",
    "plt.show()"
   ]
  }
 ],
 "metadata": {
  "kernelspec": {
   "display_name": "py_multislice",
   "language": "python",
   "name": "python3"
  },
  "language_info": {
   "codemirror_mode": {
    "name": "ipython",
    "version": 3
   },
   "file_extension": ".py",
   "mimetype": "text/x-python",
   "name": "python",
   "nbconvert_exporter": "python",
   "pygments_lexer": "ipython3",
   "version": "3.12.8"
  }
 },
 "nbformat": 4,
 "nbformat_minor": 5
}
