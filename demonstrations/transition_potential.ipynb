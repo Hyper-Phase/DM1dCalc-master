{
 "cells": [
  {
   "cell_type": "code",
   "execution_count": 1,
   "id": "00aa6f08",
   "metadata": {},
   "outputs": [],
   "source": [
    "from ase.io import read\n",
    "from ase.visualize.plot import plot_atoms\n",
    "from abtem import Potential\n",
    "import numpy as np\n",
    "from matplotlib import pyplot as plt\n",
    "import sys\n",
    "sys.path.append('../')\n",
    "from DM1dCalc.multislice import multislice, multislice_1d"
   ]
  },
  {
   "cell_type": "code",
   "execution_count": 2,
   "id": "1a4666a1",
   "metadata": {},
   "outputs": [],
   "source": [
    "sto_3bc = read('../structures/STO3bc.cif')\n",
    "sto_3bc = sto_3bc.repeat((1, 3, 1))\n",
    "energy = 200e3  # in eV\n",
    "sampling = 0.065  # in Angstrom\n",
    "\n",
    "potential = Potential(\n",
    "    sto_3bc,\n",
    "    sampling=sampling,\n",
    "    slice_thickness=1,\n",
    "    projection=\"finite\"\n",
    ").build().array\n",
    "potential = np.array(potential)\n",
    "height, width, depth = potential.shape"
   ]
  },
  {
   "cell_type": "code",
   "execution_count": 6,
   "id": "d6a5d9c3",
   "metadata": {},
   "outputs": [
    {
     "data": {
      "text/plain": [
       "[array([[ 1.98354125e-06-2.63793045e-18j, -1.98354125e-06-1.93101910e-04j,\n",
       "          1.98354125e-06-3.81306499e-04j, ...,\n",
       "         -1.98354125e-06+5.56562050e-04j,  1.98354125e-06+3.81306499e-04j,\n",
       "         -1.98354125e-06+1.93101910e-04j],\n",
       "        [-2.00278214e-06-5.37288024e-18j,  2.00278214e-06-1.96381105e-04j,\n",
       "         -2.00278214e-06-3.86285841e-04j, ...,\n",
       "          2.00278214e-06+5.66417997e-04j, -2.00278214e-06+3.86285841e-04j,\n",
       "          2.00278214e-06+1.96381105e-04j],\n",
       "        [ 2.06201988e-06-5.12501588e-18j, -2.06201988e-06-2.04641174e-04j,\n",
       "          2.06201988e-06-4.04421939e-04j, ...,\n",
       "         -2.06201988e-06+5.91164845e-04j,  2.06201988e-06+4.04421939e-04j,\n",
       "         -2.06201988e-06+2.04641174e-04j],\n",
       "        ...,\n",
       "        [-2.16605895e-06-1.82856536e-18j,  2.16605895e-06-2.19484438e-04j,\n",
       "         -2.16605895e-06-4.32477280e-04j, ...,\n",
       "          2.16605895e-06+6.35851551e-04j, -2.16605895e-06+4.32477280e-04j,\n",
       "          2.16605895e-06+2.19484438e-04j],\n",
       "        [ 2.06201988e-06-5.13888604e-18j, -2.06201988e-06-2.04641174e-04j,\n",
       "          2.06201988e-06-4.04421939e-04j, ...,\n",
       "         -2.06201988e-06+5.91164845e-04j,  2.06201988e-06+4.04421939e-04j,\n",
       "         -2.06201988e-06+2.04641174e-04j],\n",
       "        [-2.00278214e-06-5.31867014e-18j,  2.00278214e-06-1.96381105e-04j,\n",
       "         -2.00278214e-06-3.86285841e-04j, ...,\n",
       "          2.00278214e-06+5.66417997e-04j, -2.00278214e-06+3.86285841e-04j,\n",
       "          2.00278214e-06+1.96381105e-04j]]),\n",
       " array([[ 1.98354125e-06-2.63793045e-18j, -2.00278214e-06-5.64359026e-18j,\n",
       "          2.06201988e-06-5.08467594e-18j, ...,\n",
       "         -2.16605895e-06-2.01588841e-18j,  2.06201988e-06-5.08425242e-18j,\n",
       "         -2.00278214e-06-5.61648521e-18j],\n",
       "        [-1.98354125e-06-1.93101910e-04j,  2.00278214e-06-1.96381105e-04j,\n",
       "         -2.06201988e-06-2.04641174e-04j, ...,\n",
       "          2.16605895e-06-2.19484438e-04j, -2.06201988e-06-2.04641174e-04j,\n",
       "          2.00278214e-06-1.96381105e-04j],\n",
       "        [ 1.98354125e-06-3.81306499e-04j, -2.00278214e-06-3.86285841e-04j,\n",
       "          2.06201988e-06-4.04421939e-04j, ...,\n",
       "         -2.16605895e-06-4.32477280e-04j,  2.06201988e-06-4.04421939e-04j,\n",
       "         -2.00278214e-06-3.86285841e-04j],\n",
       "        ...,\n",
       "        [-1.98354125e-06+5.56562050e-04j,  2.00278214e-06+5.66417997e-04j,\n",
       "         -2.06201988e-06+5.91164845e-04j, ...,\n",
       "          2.16605895e-06+6.35851551e-04j, -2.06201988e-06+5.91164845e-04j,\n",
       "          2.00278214e-06+5.66417997e-04j],\n",
       "        [ 1.98354125e-06+3.81306499e-04j, -2.00278214e-06+3.86285841e-04j,\n",
       "          2.06201988e-06+4.04421939e-04j, ...,\n",
       "         -2.16605895e-06+4.32477280e-04j,  2.06201988e-06+4.04421939e-04j,\n",
       "         -2.00278214e-06+3.86285841e-04j],\n",
       "        [-1.98354125e-06+1.93101910e-04j,  2.00278214e-06+1.96381105e-04j,\n",
       "         -2.06201988e-06+2.04641174e-04j, ...,\n",
       "          2.16605895e-06+2.19484438e-04j, -2.06201988e-06+2.04641174e-04j,\n",
       "          2.00278214e-06+1.96381105e-04j]]),\n",
       " array([[0.01797707-8.43634494e-21j, 0.01797916+4.11735247e-21j,\n",
       "         0.01798538-5.63524837e-21j, ..., 0.01799554+7.74311809e-21j,\n",
       "         0.01798538-8.91750104e-21j, 0.01797916-6.25880114e-21j],\n",
       "        [0.01797916+1.74635346e-20j, 0.01798129+2.60276703e-20j,\n",
       "         0.0179876 +2.17298692e-20j, ..., 0.01799792-2.11082902e-20j,\n",
       "         0.0179876 -4.95166867e-21j, 0.01798129-5.75369647e-21j],\n",
       "        [0.01798538-3.35057552e-21j, 0.0179876 +1.79139048e-20j,\n",
       "         0.0179942 -7.06600781e-21j, ..., 0.01800498-4.39058249e-22j,\n",
       "         0.0179942 -7.06600781e-21j, 0.0179876 +2.45555347e-21j],\n",
       "        ...,\n",
       "        [0.01799554+3.64871943e-20j, 0.01799792+2.10034807e-20j,\n",
       "         0.01800498+3.13733007e-20j, ..., 0.01801655-6.38655492e-21j,\n",
       "         0.01800498+3.08439051e-20j, 0.01799792+6.95256918e-21j],\n",
       "        [0.01798538-8.40299470e-21j, 0.0179876 +6.05213478e-21j,\n",
       "         0.0179942 -8.33324851e-21j, ..., 0.01800498+5.48686366e-21j,\n",
       "         0.0179942 -1.17213803e-20j, 0.0179876 -1.25825901e-20j],\n",
       "        [0.01797916-3.10348416e-21j, 0.01798129-6.05615094e-21j,\n",
       "         0.0179876 -3.44289123e-21j, ..., 0.01799792-1.19472981e-20j,\n",
       "         0.0179876 -2.80761652e-21j, 0.01798129-6.51599938e-21j]])]"
      ]
     },
     "execution_count": 6,
     "metadata": {},
     "output_type": "execute_result"
    }
   ],
   "source": [
    "from DM1dCalc.ionization import dipole_transition_potential\n",
    "#m, n = potential.shape[1:]\n",
    "m, n = 32, 32\n",
    "transitions = dipole_transition_potential(\n",
    "    energy=energy,\n",
    "    loss=456,\n",
    "    sampling=sampling,\n",
    "    shape=(m, n),\n",
    "    posn=[[m//2, n//2],])\n",
    "transitions"
   ]
  },
  {
   "cell_type": "code",
   "execution_count": 10,
   "id": "1fb9a1e3",
   "metadata": {},
   "outputs": [
    {
     "data": {
      "image/png": "[encoded data removed]",
      "text/plain": [
       "<Figure size 640x480 with 1 Axes>"
      ]
     },
     "metadata": {},
     "output_type": "display_data"
    }
   ],
   "source": [
    "Hx, Hy, Hz = transitions\n",
    "plt.imshow(np.abs(Hx))\n",
    "plt.show()"
   ]
  },
  {
   "cell_type": "code",
   "execution_count": null,
   "id": "f1a4cd90",
   "metadata": {},
   "outputs": [],
   "source": []
  }
 ],
 "metadata": {
  "kernelspec": {
   "display_name": "base",
   "language": "python",
   "name": "python3"
  },
  "language_info": {
   "codemirror_mode": {
    "name": "ipython",
    "version": 3
   },
   "file_extension": ".py",
   "mimetype": "text/x-python",
   "name": "python",
   "nbconvert_exporter": "python",
   "pygments_lexer": "ipython3",
   "version": "3.10.14"
  }
 },
 "nbformat": 4,
 "nbformat_minor": 5
}
